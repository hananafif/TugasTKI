{
  "nbformat": 4,
  "nbformat_minor": 0,
  "metadata": {
    "colab": {
      "name": "Tugas-2.ipynb",
      "provenance": [],
      "collapsed_sections": [],
      "authorship_tag": "ABX9TyPoJeWJfy4nB4ELkXsFWeIE",
      "include_colab_link": true
    },
    "kernelspec": {
      "name": "python3",
      "display_name": "Python 3"
    }
  },
  "cells": [
    {
      "cell_type": "markdown",
      "metadata": {
        "id": "view-in-github",
        "colab_type": "text"
      },
      "source": [
        "<a href=\"https://colab.research.google.com/github/hananafif/TugasTKI/blob/master/Tugas2/Tugas_2.ipynb\" target=\"_parent\"><img src=\"https://colab.research.google.com/assets/colab-badge.svg\" alt=\"Open In Colab\"/></a>"
      ]
    },
    {
      "cell_type": "code",
      "metadata": {
        "id": "Lde44fykfxHs",
        "outputId": "735f9078-231f-43ea-9ce2-ed530da7937b",
        "colab": {
          "base_uri": "https://localhost:8080/",
          "height": 55
        }
      },
      "source": [
        "with open(\"/content/Artikel_hanan.txt\") as artikel:\n",
        "  teks = artikel.read();\n",
        "print(teks);"
      ],
      "execution_count": null,
      "outputs": [
        {
          "output_type": "stream",
          "text": [
            "Apple merilis halaman dukungan yang memperingatkan pemilik MacBook untuk tidak menutup laptop saat aksesori penutup kamera terpasang. Sebab hal ini dapat menimbulkan kerusakan seperti keretakan pada layar. Apple menjelaskan bahwa keretakan tersebut terjadi karena jarak antara bodi keyboard dan layar perangkat komputasi karyanya ini dirancang dengan celah sempit. Dan aksesori penutup kamera berbahan plastik dengan mekanisme geser saat ini telah banyak digunakan masyarakat. Sebab, lampu yang dapat ditemukan pengguna MacBook Pro dan MacBook Air ini akan menyala setiap kali kamera aktif. Apple juga menjelaskan bahwa kamera perangkat ini dirancang untuk tidak dapat aktif tanpa mengaktifkan lampu indikator kamera. Apple juga menyadari bahwa sejumlah pengguna tidak memiliki pilihan terkait lapisan keamanan tambahan dan bahkan diharuskan perusahaan tempat mereka bekerja untuk menggunakan aksesori ini. Pada kasus tersebut, Apple menyebut aksesori penutup harus dilepaskan terlebih dahulu sebelum menutup laptop. Sementara itu, MacRumor melaporkan bahwa terdapat sejumlah kasus layar MacBook Pro mengalami keretakan bahkan akibat mengalami tekanan ringan saat laptop dalam kondisi tertutup dan menggunakan aksesori penutup kamera tersebut.\n"
          ],
          "name": "stdout"
        }
      ]
    },
    {
      "cell_type": "code",
      "metadata": {
        "id": "jLoskTyRwKMo",
        "outputId": "2060851b-cdff-40f2-e6a5-4903393d523c",
        "colab": {
          "base_uri": "https://localhost:8080/",
          "height": 73
        }
      },
      "source": [
        "tokenisasi = teks.split(\" \")\n",
        "print(tokenisasi)\n",
        "print(len(tokenisasi))\n"
      ],
      "execution_count": null,
      "outputs": [
        {
          "output_type": "stream",
          "text": [
            "['Apple', 'merilis', 'halaman', 'dukungan', 'yang', 'memperingatkan', 'pemilik', 'MacBook', 'untuk', 'tidak', 'menutup', 'laptop', 'saat', 'aksesori', 'penutup', 'kamera', 'terpasang.', 'Sebab', 'hal', 'ini', 'dapat', 'menimbulkan', 'kerusakan', 'seperti', 'keretakan', 'pada', 'layar.', 'Apple', 'menjelaskan', 'bahwa', 'keretakan', 'tersebut', 'terjadi', 'karena', 'jarak', 'antara', 'bodi', 'keyboard', 'dan', 'layar', 'perangkat', 'komputasi', 'karyanya', 'ini', 'dirancang', 'dengan', 'celah', 'sempit.', 'Dan', 'aksesori', 'penutup', 'kamera', 'berbahan', 'plastik', 'dengan', 'mekanisme', 'geser', 'saat', 'ini', 'telah', 'banyak', 'digunakan', 'masyarakat.', 'Sebab,', 'lampu', 'yang', 'dapat', 'ditemukan', 'pengguna', 'MacBook', 'Pro', 'dan', 'MacBook', 'Air', 'ini', 'akan', 'menyala', 'setiap', 'kali', 'kamera', 'aktif.', 'Apple', 'juga', 'menjelaskan', 'bahwa', 'kamera', 'perangkat', 'ini', 'dirancang', 'untuk', 'tidak', 'dapat', 'aktif', 'tanpa', 'mengaktifkan', 'lampu', 'indikator', 'kamera.', 'Apple', 'juga', 'menyadari', 'bahwa', 'sejumlah', 'pengguna', 'tidak', 'memiliki', 'pilihan', 'terkait', 'lapisan', 'keamanan', 'tambahan', 'dan', 'bahkan', 'diharuskan', 'perusahaan', 'tempat', 'mereka', 'bekerja', 'untuk', 'menggunakan', 'aksesori', 'ini.', 'Pada', 'kasus', 'tersebut,', 'Apple', 'menyebut', 'aksesori', 'penutup', 'harus', 'dilepaskan', 'terlebih', 'dahulu', 'sebelum', 'menutup', 'laptop.', 'Sementara', 'itu,', 'MacRumor', 'melaporkan', 'bahwa', 'terdapat', 'sejumlah', 'kasus', 'layar', 'MacBook', 'Pro', 'mengalami', 'keretakan', 'bahkan', 'akibat', 'mengalami', 'tekanan', 'ringan', 'saat', 'laptop', 'dalam', 'kondisi', 'tertutup', 'dan', 'menggunakan', 'aksesori', 'penutup', 'kamera', 'tersebut.']\n",
            "165\n"
          ],
          "name": "stdout"
        }
      ]
    },
    {
      "cell_type": "code",
      "metadata": {
        "id": "GgGqT6YuQ2bU",
        "outputId": "b0d3374a-5234-4280-8061-4393a0f5aa81",
        "colab": {
          "base_uri": "https://localhost:8080/",
          "height": 649
        }
      },
      "source": [
        "bersihin_token = []\n",
        "for x in range(len(tokenisasi)-1):\n",
        "  isi = tokenisasi[x]\n",
        "  if tokenisasi[x][-1] == \",\" or tokenisasi[x][-1] == \".\":\n",
        "    print(x, isi, \" -- Sebelum\")\n",
        "    isi = tokenisasi[x][0:-1]\n",
        "    print(x, isi, \" -- Sesudah\\n\")\n",
        "\n",
        "  bersihin_token.append(isi)\n",
        "print(bersihin_token)"
      ],
      "execution_count": 97,
      "outputs": [
        {
          "output_type": "stream",
          "text": [
            "16 terpasang.  -- Sebelum\n",
            "16 terpasang  -- Sesudah\n",
            "\n",
            "26 layar.  -- Sebelum\n",
            "26 layar  -- Sesudah\n",
            "\n",
            "47 sempit.  -- Sebelum\n",
            "47 sempit  -- Sesudah\n",
            "\n",
            "62 masyarakat.  -- Sebelum\n",
            "62 masyarakat  -- Sesudah\n",
            "\n",
            "63 Sebab,  -- Sebelum\n",
            "63 Sebab  -- Sesudah\n",
            "\n",
            "80 aktif.  -- Sebelum\n",
            "80 aktif  -- Sesudah\n",
            "\n",
            "97 kamera.  -- Sebelum\n",
            "97 kamera  -- Sesudah\n",
            "\n",
            "121 ini.  -- Sebelum\n",
            "121 ini  -- Sesudah\n",
            "\n",
            "124 tersebut,  -- Sebelum\n",
            "124 tersebut  -- Sesudah\n",
            "\n",
            "135 laptop.  -- Sebelum\n",
            "135 laptop  -- Sesudah\n",
            "\n",
            "137 itu,  -- Sebelum\n",
            "137 itu  -- Sesudah\n",
            "\n",
            "['Apple', 'merilis', 'halaman', 'dukungan', 'yang', 'memperingatkan', 'pemilik', 'MacBook', 'untuk', 'tidak', 'menutup', 'laptop', 'saat', 'aksesori', 'penutup', 'kamera', 'terpasang', 'Sebab', 'hal', 'ini', 'dapat', 'menimbulkan', 'kerusakan', 'seperti', 'keretakan', 'pada', 'layar', 'Apple', 'menjelaskan', 'bahwa', 'keretakan', 'tersebut', 'terjadi', 'karena', 'jarak', 'antara', 'bodi', 'keyboard', 'dan', 'layar', 'perangkat', 'komputasi', 'karyanya', 'ini', 'dirancang', 'dengan', 'celah', 'sempit', 'Dan', 'aksesori', 'penutup', 'kamera', 'berbahan', 'plastik', 'dengan', 'mekanisme', 'geser', 'saat', 'ini', 'telah', 'banyak', 'digunakan', 'masyarakat', 'Sebab', 'lampu', 'yang', 'dapat', 'ditemukan', 'pengguna', 'MacBook', 'Pro', 'dan', 'MacBook', 'Air', 'ini', 'akan', 'menyala', 'setiap', 'kali', 'kamera', 'aktif', 'Apple', 'juga', 'menjelaskan', 'bahwa', 'kamera', 'perangkat', 'ini', 'dirancang', 'untuk', 'tidak', 'dapat', 'aktif', 'tanpa', 'mengaktifkan', 'lampu', 'indikator', 'kamera', 'Apple', 'juga', 'menyadari', 'bahwa', 'sejumlah', 'pengguna', 'tidak', 'memiliki', 'pilihan', 'terkait', 'lapisan', 'keamanan', 'tambahan', 'dan', 'bahkan', 'diharuskan', 'perusahaan', 'tempat', 'mereka', 'bekerja', 'untuk', 'menggunakan', 'aksesori', 'ini', 'Pada', 'kasus', 'tersebut', 'Apple', 'menyebut', 'aksesori', 'penutup', 'harus', 'dilepaskan', 'terlebih', 'dahulu', 'sebelum', 'menutup', 'laptop', 'Sementara', 'itu', 'MacRumor', 'melaporkan', 'bahwa', 'terdapat', 'sejumlah', 'kasus', 'layar', 'MacBook', 'Pro', 'mengalami', 'keretakan', 'bahkan', 'akibat', 'mengalami', 'tekanan', 'ringan', 'saat', 'laptop', 'dalam', 'kondisi', 'tertutup', 'dan', 'menggunakan', 'aksesori', 'penutup', 'kamera']\n"
          ],
          "name": "stdout"
        }
      ]
    },
    {
      "cell_type": "code",
      "metadata": {
        "id": "ns97sLC6v4Uh",
        "outputId": "cfadacca-d082-4408-b043-088c7798b6b7",
        "colab": {
          "base_uri": "https://localhost:8080/",
          "height": 55
        }
      },
      "source": [
        "unik = {}\n",
        "for x in bersihin_token:\n",
        "  if x in unik:\n",
        "    unik[x] += 1\n",
        "  else:\n",
        "    unik[x] = 1\n",
        "print(unik)"
      ],
      "execution_count": 98,
      "outputs": [
        {
          "output_type": "stream",
          "text": [
            "{'Apple': 5, 'merilis': 1, 'halaman': 1, 'dukungan': 1, 'yang': 2, 'memperingatkan': 1, 'pemilik': 1, 'MacBook': 4, 'untuk': 3, 'tidak': 3, 'menutup': 2, 'laptop': 3, 'saat': 3, 'aksesori': 5, 'penutup': 4, 'kamera': 6, 'terpasang': 1, 'Sebab': 2, 'hal': 1, 'ini': 6, 'dapat': 3, 'menimbulkan': 1, 'kerusakan': 1, 'seperti': 1, 'keretakan': 3, 'pada': 1, 'layar': 3, 'menjelaskan': 2, 'bahwa': 4, 'tersebut': 2, 'terjadi': 1, 'karena': 1, 'jarak': 1, 'antara': 1, 'bodi': 1, 'keyboard': 1, 'dan': 4, 'perangkat': 2, 'komputasi': 1, 'karyanya': 1, 'dirancang': 2, 'dengan': 2, 'celah': 1, 'sempit': 1, 'Dan': 1, 'berbahan': 1, 'plastik': 1, 'mekanisme': 1, 'geser': 1, 'telah': 1, 'banyak': 1, 'digunakan': 1, 'masyarakat': 1, 'lampu': 2, 'ditemukan': 1, 'pengguna': 2, 'Pro': 2, 'Air': 1, 'akan': 1, 'menyala': 1, 'setiap': 1, 'kali': 1, 'aktif': 2, 'juga': 2, 'tanpa': 1, 'mengaktifkan': 1, 'indikator': 1, 'menyadari': 1, 'sejumlah': 2, 'memiliki': 1, 'pilihan': 1, 'terkait': 1, 'lapisan': 1, 'keamanan': 1, 'tambahan': 1, 'bahkan': 2, 'diharuskan': 1, 'perusahaan': 1, 'tempat': 1, 'mereka': 1, 'bekerja': 1, 'menggunakan': 2, 'Pada': 1, 'kasus': 2, 'menyebut': 1, 'harus': 1, 'dilepaskan': 1, 'terlebih': 1, 'dahulu': 1, 'sebelum': 1, 'Sementara': 1, 'itu': 1, 'MacRumor': 1, 'melaporkan': 1, 'terdapat': 1, 'mengalami': 2, 'akibat': 1, 'tekanan': 1, 'ringan': 1, 'dalam': 1, 'kondisi': 1, 'tertutup': 1}\n"
          ],
          "name": "stdout"
        }
      ]
    },
    {
      "cell_type": "code",
      "metadata": {
        "id": "tGDAZDTfwjEI",
        "outputId": "bc3670b9-3c32-4b19-ed76-45ec414f2475",
        "colab": {
          "base_uri": "https://localhost:8080/",
          "height": 1000
        }
      },
      "source": [
        "for x in unik:\n",
        "  print(x, unik[x])\n",
        "\n",
        "#frekuensi dari frekuensi\n",
        "count_f = {}\n",
        "for x in unik:\n",
        "  if unik[x] in count_f:\n",
        "    count_f[unik[x]] += 1\n",
        "  else:\n",
        "    count_f[unik[x]] = 1\n",
        "print(count_f)"
      ],
      "execution_count": 65,
      "outputs": [
        {
          "output_type": "stream",
          "text": [
            "Apple 5\n",
            "merilis 1\n",
            "halaman 1\n",
            "dukungan 1\n",
            "yang 2\n",
            "memperingatkan 1\n",
            "pemilik 1\n",
            "MacBook 4\n",
            "untuk 3\n",
            "tidak 3\n",
            "menutup 2\n",
            "laptop 3\n",
            "saat 3\n",
            "aksesori 5\n",
            "penutup 4\n",
            "kamera 6\n",
            "terpasang 1\n",
            "Sebab 2\n",
            "hal 1\n",
            "ini 6\n",
            "dapat 3\n",
            "menimbulkan 1\n",
            "kerusakan 1\n",
            "seperti 1\n",
            "keretakan 3\n",
            "pada 1\n",
            "layar 3\n",
            "menjelaskan 2\n",
            "bahwa 4\n",
            "tersebut 2\n",
            "terjadi 1\n",
            "karena 1\n",
            "jarak 1\n",
            "antara 1\n",
            "bodi 1\n",
            "keyboard 1\n",
            "dan 4\n",
            "perangkat 2\n",
            "komputasi 1\n",
            "karyanya 1\n",
            "dirancang 2\n",
            "dengan 2\n",
            "celah 1\n",
            "sempit 1\n",
            "Dan 1\n",
            "berbahan 1\n",
            "plastik 1\n",
            "mekanisme 1\n",
            "geser 1\n",
            "telah 1\n",
            "banyak 1\n",
            "digunakan 1\n",
            "masyarakat 1\n",
            "lampu 2\n",
            "ditemukan 1\n",
            "pengguna 2\n",
            "Pro 2\n",
            "Air 1\n",
            "akan 1\n",
            "menyala 1\n",
            "setiap 1\n",
            "kali 1\n",
            "aktif 2\n",
            "juga 2\n",
            "tanpa 1\n",
            "mengaktifkan 1\n",
            "indikator 1\n",
            "menyadari 1\n",
            "sejumlah 2\n",
            "memiliki 1\n",
            "pilihan 1\n",
            "terkait 1\n",
            "lapisan 1\n",
            "keamanan 1\n",
            "tambahan 1\n",
            "bahkan 2\n",
            "diharuskan 1\n",
            "perusahaan 1\n",
            "tempat 1\n",
            "mereka 1\n",
            "bekerja 1\n",
            "menggunakan 2\n",
            "Pada 1\n",
            "kasus 2\n",
            "menyebut 1\n",
            "harus 1\n",
            "dilepaskan 1\n",
            "terlebih 1\n",
            "dahulu 1\n",
            "sebelum 1\n",
            "Sementara 1\n",
            "itu 1\n",
            "MacRumor 1\n",
            "melaporkan 1\n",
            "terdapat 1\n",
            "mengalami 2\n",
            "akibat 1\n",
            "tekanan 1\n",
            "ringan 1\n",
            "dalam 1\n",
            "kondisi 1\n",
            "tertutup 1\n",
            "{5: 2, 1: 69, 2: 18, 4: 4, 3: 7, 6: 2}\n"
          ],
          "name": "stdout"
        }
      ]
    },
    {
      "cell_type": "code",
      "metadata": {
        "id": "Yfv0v5pww3De",
        "outputId": "5f98f78c-be13-430a-8d45-435c306b5a77",
        "colab": {
          "base_uri": "https://localhost:8080/",
          "height": 55
        }
      },
      "source": [
        "vocab = []\n",
        "unik_sort = sorted(unik, key=unik.get, reverse=True)\n",
        "for x in unik_sort:\n",
        "  vocab.append([x, unik[x]])\n",
        "print(vocab)"
      ],
      "execution_count": 96,
      "outputs": [
        {
          "output_type": "stream",
          "text": [
            "[['kamera', 6], ['ini', 6], ['Apple', 5], ['aksesori', 5], ['MacBook', 4], ['penutup', 4], ['bahwa', 4], ['dan', 4], ['untuk', 3], ['tidak', 3], ['laptop', 3], ['saat', 3], ['dapat', 3], ['keretakan', 3], ['layar', 3], ['yang', 2], ['menutup', 2], ['Sebab', 2], ['menjelaskan', 2], ['tersebut', 2], ['perangkat', 2], ['dirancang', 2], ['dengan', 2], ['lampu', 2], ['pengguna', 2], ['Pro', 2], ['aktif', 2], ['juga', 2], ['sejumlah', 2], ['bahkan', 2], ['menggunakan', 2], ['kasus', 2], ['mengalami', 2], ['merilis', 1], ['halaman', 1], ['dukungan', 1], ['memperingatkan', 1], ['pemilik', 1], ['terpasang', 1], ['hal', 1], ['menimbulkan', 1], ['kerusakan', 1], ['seperti', 1], ['pada', 1], ['terjadi', 1], ['karena', 1], ['jarak', 1], ['antara', 1], ['bodi', 1], ['keyboard', 1], ['komputasi', 1], ['karyanya', 1], ['celah', 1], ['sempit', 1], ['Dan', 1], ['berbahan', 1], ['plastik', 1], ['mekanisme', 1], ['geser', 1], ['telah', 1], ['banyak', 1], ['digunakan', 1], ['masyarakat', 1], ['ditemukan', 1], ['Air', 1], ['akan', 1], ['menyala', 1], ['setiap', 1], ['kali', 1], ['tanpa', 1], ['mengaktifkan', 1], ['indikator', 1], ['menyadari', 1], ['memiliki', 1], ['pilihan', 1], ['terkait', 1], ['lapisan', 1], ['keamanan', 1], ['tambahan', 1], ['diharuskan', 1], ['perusahaan', 1], ['tempat', 1], ['mereka', 1], ['bekerja', 1], ['Pada', 1], ['menyebut', 1], ['harus', 1], ['dilepaskan', 1], ['terlebih', 1], ['dahulu', 1], ['sebelum', 1], ['Sementara', 1], ['itu', 1], ['MacRumor', 1], ['melaporkan', 1], ['terdapat', 1], ['akibat', 1], ['tekanan', 1], ['ringan', 1], ['dalam', 1], ['kondisi', 1], ['tertutup', 1]]\n"
          ],
          "name": "stdout"
        }
      ]
    }
  ]
}