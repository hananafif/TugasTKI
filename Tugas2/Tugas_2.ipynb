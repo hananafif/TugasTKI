{
  "nbformat": 4,
  "nbformat_minor": 0,
  "metadata": {
    "colab": {
      "name": "Tugas-2.ipynb",
      "provenance": [],
      "collapsed_sections": [],
      "authorship_tag": "ABX9TyMpsEclXffk+rW8Xs+y5MF9",
      "include_colab_link": true
    },
    "kernelspec": {
      "name": "python3",
      "display_name": "Python 3"
    }
  },
  "cells": [
    {
      "cell_type": "markdown",
      "metadata": {
        "id": "view-in-github",
        "colab_type": "text"
      },
      "source": [
        "<a href=\"https://colab.research.google.com/github/hananafif/TugasTKI/blob/master/Tugas2/Tugas_2.ipynb\" target=\"_parent\"><img src=\"https://colab.research.google.com/assets/colab-badge.svg\" alt=\"Open In Colab\"/></a>"
      ]
    },
    {
      "cell_type": "code",
      "metadata": {
        "id": "Lde44fykfxHs",
        "outputId": "735f9078-231f-43ea-9ce2-ed530da7937b",
        "colab": {
          "base_uri": "https://localhost:8080/",
          "height": 55
        }
      },
      "source": [
        "with open(\"/content/Artikel_hanan.txt\") as artikel:\n",
        "  teks = artikel.read();\n",
        "print(teks);"
      ],
      "execution_count": 49,
      "outputs": [
        {
          "output_type": "stream",
          "text": [
            "Apple merilis halaman dukungan yang memperingatkan pemilik MacBook untuk tidak menutup laptop saat aksesori penutup kamera terpasang. Sebab hal ini dapat menimbulkan kerusakan seperti keretakan pada layar. Apple menjelaskan bahwa keretakan tersebut terjadi karena jarak antara bodi keyboard dan layar perangkat komputasi karyanya ini dirancang dengan celah sempit. Dan aksesori penutup kamera berbahan plastik dengan mekanisme geser saat ini telah banyak digunakan masyarakat. Sebab, lampu yang dapat ditemukan pengguna MacBook Pro dan MacBook Air ini akan menyala setiap kali kamera aktif. Apple juga menjelaskan bahwa kamera perangkat ini dirancang untuk tidak dapat aktif tanpa mengaktifkan lampu indikator kamera. Apple juga menyadari bahwa sejumlah pengguna tidak memiliki pilihan terkait lapisan keamanan tambahan dan bahkan diharuskan perusahaan tempat mereka bekerja untuk menggunakan aksesori ini. Pada kasus tersebut, Apple menyebut aksesori penutup harus dilepaskan terlebih dahulu sebelum menutup laptop. Sementara itu, MacRumor melaporkan bahwa terdapat sejumlah kasus layar MacBook Pro mengalami keretakan bahkan akibat mengalami tekanan ringan saat laptop dalam kondisi tertutup dan menggunakan aksesori penutup kamera tersebut.\n"
          ],
          "name": "stdout"
        }
      ]
    },
    {
      "cell_type": "code",
      "metadata": {
        "id": "jLoskTyRwKMo"
      },
      "source": [
        "tokenisasi = teks.split(\" \")\n"
      ],
      "execution_count": 50,
      "outputs": []
    },
    {
      "cell_type": "code",
      "metadata": {
        "id": "8kLmlqkmwOAt",
        "outputId": "6b64a059-682d-4758-ecaf-e832cf1356d1",
        "colab": {
          "base_uri": "https://localhost:8080/",
          "height": 55
        }
      },
      "source": [
        "print(tokenisasi)\n"
      ],
      "execution_count": 51,
      "outputs": [
        {
          "output_type": "stream",
          "text": [
            "['Apple', 'merilis', 'halaman', 'dukungan', 'yang', 'memperingatkan', 'pemilik', 'MacBook', 'untuk', 'tidak', 'menutup', 'laptop', 'saat', 'aksesori', 'penutup', 'kamera', 'terpasang.', 'Sebab', 'hal', 'ini', 'dapat', 'menimbulkan', 'kerusakan', 'seperti', 'keretakan', 'pada', 'layar.', 'Apple', 'menjelaskan', 'bahwa', 'keretakan', 'tersebut', 'terjadi', 'karena', 'jarak', 'antara', 'bodi', 'keyboard', 'dan', 'layar', 'perangkat', 'komputasi', 'karyanya', 'ini', 'dirancang', 'dengan', 'celah', 'sempit.', 'Dan', 'aksesori', 'penutup', 'kamera', 'berbahan', 'plastik', 'dengan', 'mekanisme', 'geser', 'saat', 'ini', 'telah', 'banyak', 'digunakan', 'masyarakat.', 'Sebab,', 'lampu', 'yang', 'dapat', 'ditemukan', 'pengguna', 'MacBook', 'Pro', 'dan', 'MacBook', 'Air', 'ini', 'akan', 'menyala', 'setiap', 'kali', 'kamera', 'aktif.', 'Apple', 'juga', 'menjelaskan', 'bahwa', 'kamera', 'perangkat', 'ini', 'dirancang', 'untuk', 'tidak', 'dapat', 'aktif', 'tanpa', 'mengaktifkan', 'lampu', 'indikator', 'kamera.', 'Apple', 'juga', 'menyadari', 'bahwa', 'sejumlah', 'pengguna', 'tidak', 'memiliki', 'pilihan', 'terkait', 'lapisan', 'keamanan', 'tambahan', 'dan', 'bahkan', 'diharuskan', 'perusahaan', 'tempat', 'mereka', 'bekerja', 'untuk', 'menggunakan', 'aksesori', 'ini.', 'Pada', 'kasus', 'tersebut,', 'Apple', 'menyebut', 'aksesori', 'penutup', 'harus', 'dilepaskan', 'terlebih', 'dahulu', 'sebelum', 'menutup', 'laptop.', 'Sementara', 'itu,', 'MacRumor', 'melaporkan', 'bahwa', 'terdapat', 'sejumlah', 'kasus', 'layar', 'MacBook', 'Pro', 'mengalami', 'keretakan', 'bahkan', 'akibat', 'mengalami', 'tekanan', 'ringan', 'saat', 'laptop', 'dalam', 'kondisi', 'tertutup', 'dan', 'menggunakan', 'aksesori', 'penutup', 'kamera', 'tersebut.']\n"
          ],
          "name": "stdout"
        }
      ]
    },
    {
      "cell_type": "code",
      "metadata": {
        "id": "d2ztET3zwSLY",
        "outputId": "49c4321f-98be-44f0-8b5b-31ba30a2aad4",
        "colab": {
          "base_uri": "https://localhost:8080/",
          "height": 35
        }
      },
      "source": [
        "print(len(tokenisasi))"
      ],
      "execution_count": 52,
      "outputs": [
        {
          "output_type": "stream",
          "text": [
            "165\n"
          ],
          "name": "stdout"
        }
      ]
    },
    {
      "cell_type": "code",
      "metadata": {
        "id": "GgGqT6YuQ2bU",
        "outputId": "adffdef8-6600-448d-d7cf-bce807e2570d",
        "colab": {
          "base_uri": "https://localhost:8080/",
          "height": 649
        }
      },
      "source": [
        "bersihin_token = []\n",
        "for x in range(len(tokenisasi)-1):\n",
        "  isi = tokenisasi[x]\n",
        "  if tokenisasi[x][-1] == \",\" or tokenisasi[x][-1] == \".\":\n",
        "    print(x, isi, \" -- Sebelum\")\n",
        "    isi = tokenisasi[x][0:-1]\n",
        "    print(x, isi, \" -- Sesudah\\n\")\n",
        "\n",
        "  bersihin_token.append(isi)\n",
        "print(bersihin_token)"
      ],
      "execution_count": 56,
      "outputs": [
        {
          "output_type": "stream",
          "text": [
            "16 terpasang.  -- Sebelum\n",
            "16 terpasang  -- Sesudah\n",
            "\n",
            "26 layar.  -- Sebelum\n",
            "26 layar  -- Sesudah\n",
            "\n",
            "47 sempit.  -- Sebelum\n",
            "47 sempit  -- Sesudah\n",
            "\n",
            "62 masyarakat.  -- Sebelum\n",
            "62 masyarakat  -- Sesudah\n",
            "\n",
            "63 Sebab,  -- Sebelum\n",
            "63 Sebab  -- Sesudah\n",
            "\n",
            "80 aktif.  -- Sebelum\n",
            "80 aktif  -- Sesudah\n",
            "\n",
            "97 kamera.  -- Sebelum\n",
            "97 kamera  -- Sesudah\n",
            "\n",
            "121 ini.  -- Sebelum\n",
            "121 ini  -- Sesudah\n",
            "\n",
            "124 tersebut,  -- Sebelum\n",
            "124 tersebut  -- Sesudah\n",
            "\n",
            "135 laptop.  -- Sebelum\n",
            "135 laptop  -- Sesudah\n",
            "\n",
            "137 itu,  -- Sebelum\n",
            "137 itu  -- Sesudah\n",
            "\n",
            "['Apple', 'merilis', 'halaman', 'dukungan', 'yang', 'memperingatkan', 'pemilik', 'MacBook', 'untuk', 'tidak', 'menutup', 'laptop', 'saat', 'aksesori', 'penutup', 'kamera', 'terpasang', 'Sebab', 'hal', 'ini', 'dapat', 'menimbulkan', 'kerusakan', 'seperti', 'keretakan', 'pada', 'layar', 'Apple', 'menjelaskan', 'bahwa', 'keretakan', 'tersebut', 'terjadi', 'karena', 'jarak', 'antara', 'bodi', 'keyboard', 'dan', 'layar', 'perangkat', 'komputasi', 'karyanya', 'ini', 'dirancang', 'dengan', 'celah', 'sempit', 'Dan', 'aksesori', 'penutup', 'kamera', 'berbahan', 'plastik', 'dengan', 'mekanisme', 'geser', 'saat', 'ini', 'telah', 'banyak', 'digunakan', 'masyarakat', 'Sebab', 'lampu', 'yang', 'dapat', 'ditemukan', 'pengguna', 'MacBook', 'Pro', 'dan', 'MacBook', 'Air', 'ini', 'akan', 'menyala', 'setiap', 'kali', 'kamera', 'aktif', 'Apple', 'juga', 'menjelaskan', 'bahwa', 'kamera', 'perangkat', 'ini', 'dirancang', 'untuk', 'tidak', 'dapat', 'aktif', 'tanpa', 'mengaktifkan', 'lampu', 'indikator', 'kamera', 'Apple', 'juga', 'menyadari', 'bahwa', 'sejumlah', 'pengguna', 'tidak', 'memiliki', 'pilihan', 'terkait', 'lapisan', 'keamanan', 'tambahan', 'dan', 'bahkan', 'diharuskan', 'perusahaan', 'tempat', 'mereka', 'bekerja', 'untuk', 'menggunakan', 'aksesori', 'ini', 'Pada', 'kasus', 'tersebut', 'Apple', 'menyebut', 'aksesori', 'penutup', 'harus', 'dilepaskan', 'terlebih', 'dahulu', 'sebelum', 'menutup', 'laptop', 'Sementara', 'itu', 'MacRumor', 'melaporkan', 'bahwa', 'terdapat', 'sejumlah', 'kasus', 'layar', 'MacBook', 'Pro', 'mengalami', 'keretakan', 'bahkan', 'akibat', 'mengalami', 'tekanan', 'ringan', 'saat', 'laptop', 'dalam', 'kondisi', 'tertutup', 'dan', 'menggunakan', 'aksesori', 'penutup', 'kamera']\n"
          ],
          "name": "stdout"
        }
      ]
    }
  ]
}