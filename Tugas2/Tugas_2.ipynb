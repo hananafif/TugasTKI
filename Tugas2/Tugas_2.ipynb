{
  "nbformat": 4,
  "nbformat_minor": 0,
  "metadata": {
    "colab": {
      "name": "Tugas-2.ipynb",
      "provenance": [],
      "authorship_tag": "ABX9TyMaG8uiCw6RFGj1o4G1jEDe",
      "include_colab_link": true
    },
    "kernelspec": {
      "name": "python3",
      "display_name": "Python 3"
    }
  },
  "cells": [
    {
      "cell_type": "markdown",
      "metadata": {
        "id": "view-in-github",
        "colab_type": "text"
      },
      "source": [
        "<a href=\"https://colab.research.google.com/github/hananafif/TugasTKI/blob/master/Tugas2/Tugas_2.ipynb\" target=\"_parent\"><img src=\"https://colab.research.google.com/assets/colab-badge.svg\" alt=\"Open In Colab\"/></a>"
      ]
    },
    {
      "cell_type": "code",
      "metadata": {
        "id": "Lde44fykfxHs",
        "outputId": "947c0d1f-5d3c-44b4-f14a-6dd8fa68d479",
        "colab": {
          "base_uri": "https://localhost:8080/",
          "height": 55
        }
      },
      "source": [
        "with open(\"/content/Artikel_hanan.txt\") as artikel:\n",
        "  teks = artikel.read();\n",
        "print(teks);"
      ],
      "execution_count": 32,
      "outputs": [
        {
          "output_type": "stream",
          "text": [
            "Apple merilis halaman dukungan yang memperingatkan pemilik MacBook untuk tidak menutup laptop saat aksesori penutup kamera terpasang. Sebab hal ini dapat menimbulkan kerusakan seperti keretakan pada layar. Apple menjelaskan bahwa keretakan tersebut terjadi karena jarak antara bodi keyboard dan layar perangkat komputasi karyanya ini dirancang dengan celah sempit. Dan aksesori penutup kamera berbahan plastik dengan mekanisme geser saat ini telah banyak digunakan masyarakat. Sebab, lampu yang dapat ditemukan pengguna MacBook Pro dan MacBook Air ini akan menyala setiap kali kamera aktif. Apple juga menjelaskan bahwa kamera perangkat ini dirancang untuk tidak dapat aktif tanpa mengaktifkan lampu indikator kamera. Apple juga menyadari bahwa sejumlah pengguna tidak memiliki pilihan terkait lapisan keamanan tambahan dan bahkan diharuskan perusahaan tempat mereka bekerja untuk menggunakan aksesori ini. Pada kasus tersebut, Apple menyebut aksesori penutup harus dilepaskan terlebih dahulu sebelum menutup laptop. Sementara itu, MacRumor melaporkan bahwa terdapat sejumlah kasus layar MacBook Pro mengalami keretakan bahkan akibat mengalami tekanan ringan saat laptop dalam kondisi tertutup dan menggunakan aksesori penutup kamera tersebut.\n"
          ],
          "name": "stdout"
        }
      ]
    },
    {
      "cell_type": "code",
      "metadata": {
        "id": "jLoskTyRwKMo"
      },
      "source": [
        "tokenisasi = teks.split(\" \")\n"
      ],
      "execution_count": 29,
      "outputs": []
    },
    {
      "cell_type": "code",
      "metadata": {
        "id": "8kLmlqkmwOAt",
        "outputId": "b2e5d189-a908-46b2-8b3a-7a91942e07b6",
        "colab": {
          "base_uri": "https://localhost:8080/",
          "height": 55
        }
      },
      "source": [
        "print(tokenisasi)\n"
      ],
      "execution_count": 34,
      "outputs": [
        {
          "output_type": "stream",
          "text": [
            "['Apple', 'merilis', 'halaman', 'dukungan', 'yang', 'memperingatkan', 'pemilik', 'MacBook', 'untuk', 'tidak', 'menutup', 'laptop', 'saat', 'aksesori', 'penutup', 'kamera', 'terpasang.', 'Sebab', 'hal', 'ini', 'dapat', 'menimbulkan', 'kerusakan', 'seperti', 'keretakan', 'pada', 'layar.', 'Apple', 'menjelaskan', 'bahwa', 'keretakan', 'tersebut', 'terjadi', 'karena', 'jarak', 'antara', 'bodi', 'keyboard', 'dan', 'layar', 'perangkat', 'komputasi', 'karyanya', 'ini', 'dirancang', 'dengan', 'celah', 'sempit.', 'Dan', 'aksesori', 'penutup', 'kamera', 'berbahan', 'plastik', 'dengan', 'mekanisme', 'geser', 'saat', 'ini', 'telah', 'banyak', 'digunakan', 'masyarakat.', 'Sebab,', 'lampu', 'yang', 'dapat', 'ditemukan', 'pengguna', 'MacBook', 'Pro', 'dan', 'MacBook', 'Air', 'ini', 'akan', 'menyala', 'setiap', 'kali', 'kamera', 'aktif.', 'Apple', 'juga', 'menjelaskan', 'bahwa', 'kamera', 'perangkat', 'ini', 'dirancang', 'untuk', 'tidak', 'dapat', 'aktif', 'tanpa', 'mengaktifkan', 'lampu', 'indikator', 'kamera.', 'Apple', 'juga', 'menyadari', 'bahwa', 'sejumlah', 'pengguna', 'tidak', 'memiliki', 'pilihan', 'terkait', 'lapisan', 'keamanan', 'tambahan', 'dan', 'bahkan', 'diharuskan', 'perusahaan', 'tempat', 'mereka', 'bekerja', 'untuk', 'menggunakan', 'aksesori', 'ini.', 'Pada', 'kasus', 'tersebut,', 'Apple', 'menyebut', 'aksesori', 'penutup', 'harus', 'dilepaskan', 'terlebih', 'dahulu', 'sebelum', 'menutup', 'laptop.', 'Sementara', 'itu,', 'MacRumor', 'melaporkan', 'bahwa', 'terdapat', 'sejumlah', 'kasus', 'layar', 'MacBook', 'Pro', 'mengalami', 'keretakan', 'bahkan', 'akibat', 'mengalami', 'tekanan', 'ringan', 'saat', 'laptop', 'dalam', 'kondisi', 'tertutup', 'dan', 'menggunakan', 'aksesori', 'penutup', 'kamera', 'tersebut.']\n"
          ],
          "name": "stdout"
        }
      ]
    },
    {
      "cell_type": "code",
      "metadata": {
        "id": "d2ztET3zwSLY",
        "outputId": "59533b42-05bf-4d37-93a0-910b9c17ae5e",
        "colab": {
          "base_uri": "https://localhost:8080/",
          "height": 35
        }
      },
      "source": [
        "print(len(tokenisasi))"
      ],
      "execution_count": 31,
      "outputs": [
        {
          "output_type": "stream",
          "text": [
            "165\n"
          ],
          "name": "stdout"
        }
      ]
    }
  ]
}